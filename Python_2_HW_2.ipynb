{
  "cells": [
    {
      "cell_type": "markdown",
      "metadata": {
        "id": "5ktPX0pCqSRN"
      },
      "source": [
        "#Продвинутый Python, ДЗ-2\n",
        "\n",
        "Правила игры:\n",
        "\n",
        "В домашке 8 задач, разбаловка указана в задании. Суммарно за дз можно получить 100 баллов, что равняется 10 баллам\n",
        "\n",
        "В каждой задаче необходимо реализовать функцию, которая после будет проверяться через github classroom на тестах. Сами тесты лежит в гитхабе, можете локально проверить работу функций перед сдачей\n",
        "\n",
        "Дедлайн - 7 дней после выдачи дз. Необходимо залить решеннный ноутбук в github и прислать ссылку в Anytask (без выполнения любого из пунктов работа проверяться не будет)\n",
        "\n",
        "В данной домашке нужно использовать pandas"
      ]
    },
    {
      "cell_type": "code",
      "execution_count": 43,
      "metadata": {
        "id": "Rlek5byfvxPo"
      },
      "outputs": [],
      "source": [
        "# https://stackoverflow.com/a/60658965/7286121\n",
        "\n",
        "from IPython.core.magic import register_cell_magic\n",
        "\n",
        "@register_cell_magic\n",
        "def write_and_run(line, cell):\n",
        "    argz = line.split()\n",
        "    file = argz[-1]\n",
        "    mode = 'w'\n",
        "    if len(argz) == 2 and argz[0] == '-a':\n",
        "        mode = 'a'\n",
        "    with open(file, mode) as f:\n",
        "        f.write(cell)\n",
        "    get_ipython().run_cell(cell)"
      ]
    },
    {
      "cell_type": "markdown",
      "metadata": {
        "id": "63di75_vqbTp"
      },
      "source": [
        "## Данные"
      ]
    },
    {
      "cell_type": "markdown",
      "metadata": {
        "id": "krcmq1NUqeCS"
      },
      "source": [
        "В этом домашнем задании вам придется оказаться на месте аналитика в бразильском маркетплейсе [Olist](https://olist.com/pt-br/). Вам необходимо исследовать данные и на их основании сделать выводы, которые помогут бизнесу расцветать!\n",
        "\n",
        "Данные находятся тут в файле archive.zip"
      ]
    },
    {
      "cell_type": "code",
      "execution_count": 38,
      "metadata": {
        "colab": {
          "base_uri": "https://localhost:8080/"
        },
        "id": "5U4xc4-9b9XR",
        "outputId": "75dbd9f9-75a7-4deb-fa65-7740e62a4b3c"
      },
      "outputs": [
        {
          "output_type": "stream",
          "name": "stdout",
          "text": [
            "Requirement already satisfied: wget in /usr/local/lib/python3.10/dist-packages (3.2)\n"
          ]
        }
      ],
      "source": [
        "!pip install wget\n",
        "#перед сдачей это закомментить"
      ]
    },
    {
      "cell_type": "code",
      "execution_count": 3,
      "metadata": {
        "id": "ItTnixKIrtHQ"
      },
      "outputs": [],
      "source": [
        "# Код, который будет в каждом тесте, названия не менять\n",
        "import pandas as pd\n",
        "import numpy as np\n",
        "import zipfile\n",
        "import wget\n",
        "\n",
        "url = 'https://github.com/Palladain/Deep_Python/raw/main/Homeworks/Homework_1/archive.zip'\n",
        "filename = wget.download(url)\n",
        "\n",
        "with zipfile.ZipFile(filename, 'r') as zip_ref:\n",
        "    zip_ref.extractall('./')\n",
        "\n",
        "customers = pd.read_csv('olist_customers_dataset.csv')\n",
        "location = pd.read_csv('olist_geolocation_dataset.csv')\n",
        "items = pd.read_csv('olist_order_items_dataset.csv')\n",
        "payments = pd.read_csv('olist_order_payments_dataset.csv')\n",
        "reviews = pd.read_csv('olist_order_reviews_dataset.csv')\n",
        "orders = pd.read_csv('olist_orders_dataset.csv')\n",
        "products = pd.read_csv('olist_products_dataset.csv')\n",
        "translation = pd.read_csv('product_category_name_translation.csv')\n",
        "sellers = pd.read_csv('olist_sellers_dataset.csv')"
      ]
    },
    {
      "cell_type": "markdown",
      "metadata": {
        "id": "LLos28bYrbR2"
      },
      "source": [
        "Ван дано 9 датасетов, которые содержат в себе все данные по 100 000 заказам со всей Бразилии. Чтобы облегчить вам жизнь, вот связи по этим датасетам (файл product_category_name_translation является переводом названий категорий с португальского на английский)"
      ]
    },
    {
      "cell_type": "markdown",
      "metadata": {
        "id": "lXXie4hQrdhI"
      },
      "source": [
        "![](https://i.imgur.com/HRhd2Y0.png)"
      ]
    },
    {
      "cell_type": "markdown",
      "metadata": {
        "id": "4pUMuhE1rWhb"
      },
      "source": [
        "Ну что же, начнем!"
      ]
    },
    {
      "cell_type": "markdown",
      "metadata": {
        "id": "VnjVNWlFrVKG"
      },
      "source": [
        "## Задание 1 (10 баллов)"
      ]
    },
    {
      "cell_type": "markdown",
      "metadata": {
        "id": "2Qt0BXIIvXOx"
      },
      "source": [
        "Определите:\n",
        "\n",
        "* Число товаров\n",
        "\n",
        "* Среднюю стоимость товара (стоимость товара = среднее от цен в датасете items)\n",
        "\n",
        "в разрезе категорий (все категории должны быть на английском языке)\n",
        "\n",
        "Табличка, которая у вас должна получиться:\n",
        "\n",
        "```\n",
        "category | products | price\n",
        "\n",
        "value    | value      | value\n",
        "```\n",
        "\n",
        "**Обратите внимание:**\n",
        "\n",
        "Для категории portateis_cozinha_e_preparadores_de_alimentos перевод portable kitchen and food preparers\n",
        "\n",
        "Для категории pc_gamer перевод PC Gamer\n",
        "\n",
        "Для них нужно отдельно добавить перевод"
      ]
    },
    {
      "cell_type": "code",
      "execution_count": 109,
      "metadata": {
        "id": "PWVaTwBFrkFj"
      },
      "outputs": [],
      "source": [
        "#from itertools import product\n",
        "%%write_and_run task_1.py\n",
        "\n",
        "# важно! все зависимости, которые используете (если добавляее новые) в этом классе надо явно продублировать в эту ячейку\n",
        "import numpy as np\n",
        "import pandas as pd\n",
        "\n",
        "def task_1(translation, items, products):\n",
        "    products = products.copy(deep = True)\n",
        "\n",
        "    translated = translation.set_index(\"product_category_name\")[\"product_category_name_english\"].to_dict()\n",
        "    translated[\"portateis_cozinha_e_preparadores_de_alimentos\"] = \"portable kitchen and food preparers\"\n",
        "    translated[\"pc_gamer\"] = \"PC Gamer\"\n",
        "    products.dropna(axis = 0, subset = [\"product_category_name\"], inplace = True)\n",
        "    products[\"translated_category\"] = products[\"product_category_name\"].apply(lambda x: translated[x])\n",
        "\n",
        "    table = items.groupby(\"product_id\")\n",
        "    table1 = table.agg({\"price\": \"mean\"}).reset_index()\n",
        "    table2 = pd.merge(products, table1, on = \"product_id\")\n",
        "    result = table2.groupby(\"translated_category\").agg({\"product_id\": \"count\", \"price\": \"mean\"})\n",
        "    result.reset_index(inplace = True)\n",
        "    result.columns = [\"category\", \"products\", \"price\"]\n",
        "    return result\n",
        "    pass"
      ]
    },
    {
      "cell_type": "code",
      "execution_count": 110,
      "metadata": {
        "id": "VgSA5JAjxngq"
      },
      "outputs": [],
      "source": [
        "#Проверки\n",
        "\n",
        "res = task_1(translation, items, products)\n",
        "\n",
        "assert res[res.category == 'portable kitchen and food preparers'].price.values[0] == 186.996\n",
        "assert len(res) == 73\n",
        "assert len(res.drop_duplicates()) == 73\n",
        "assert res[res.category == 'drinks'].products.values[0] == 81\n",
        "assert res.products.sum() == 32341\n",
        "assert res.price.sum() == 12459.751444351941\n",
        "assert res[res.category == 'home_confort'].price.values[0] == 185.56926417326417"
      ]
    },
    {
      "cell_type": "markdown",
      "metadata": {
        "id": "yUh0q89ztKMV"
      },
      "source": [
        "## Задание 2 (10 баллов)"
      ]
    },
    {
      "cell_type": "markdown",
      "metadata": {
        "id": "3PM7DzaRzO9x"
      },
      "source": [
        "Определите для каждого продавца основную категорию их продаж (категории должны быть на английском языке)\n",
        "\n",
        "Табличка, которая у вас должна получиться:\n",
        "\n",
        "```\n",
        "seller_id | category\n",
        "\n",
        "value    | value\n",
        "```\n",
        "\n",
        "\n"
      ]
    },
    {
      "cell_type": "code",
      "execution_count": 111,
      "metadata": {
        "id": "YCKMxSNtzdxO"
      },
      "outputs": [],
      "source": [
        "%%write_and_run task_2.py\n",
        "\n",
        "# важно! все зависимости, которые используете (если добавляее новые) в этом классе надо явно продублировать в эту ячейку\n",
        "import numpy as np\n",
        "import pandas as pd\n",
        "\n",
        "def task_2(translation, products, items):\n",
        "    added_translations = pd.DataFrame([[\"pc_gamer\", \"PC Gamer\"],\n",
        "                                      [\"portateis_cozinha_e_preparadores_de_alimentos\", \"portable kitchen and food preparers\"]], columns=translation.columns)\n",
        "    translation = pd.concat([translation, added_translations])\n",
        "    merged = items.join(products.set_index(\"product_id\"), on=\"product_id\")\n",
        "    merged = merged.join(translation.set_index(\"product_category_name\"), on=\"product_category_name\")\n",
        "    seller_main_category = merged.groupby([\"seller_id\", \"product_category_name_english\"]).agg({\"order_id\": \"count\"}).reset_index()\n",
        "    seller_main_category = seller_main_category.sort_values(\"order_id\", ascending=False, axis = 0).drop_duplicates([\"seller_id\"])\n",
        "    seller_main_category = seller_main_category.drop(columns=[\"order_id\"], axis=1)\n",
        "    seller_main_category = seller_main_category.rename(columns={\"product_category_name_english\": \"category\"})\n",
        "\n",
        "    return seller_main_category\n",
        "\n",
        ""
      ]
    },
    {
      "cell_type": "code",
      "execution_count": 112,
      "metadata": {
        "id": "jfx4Lfn10Tic"
      },
      "outputs": [],
      "source": [
        "# Проверки\n",
        "\n",
        "res = task_2(translation, products, items)\n",
        "assert res[res.seller_id == 'e3e15e2c0b9700561efac21c6be48066'].category.values[0] == 'housewares'\n",
        "assert res[res.seller_id == '2f73e04d12cdf0c945ded66bb3fcf6c7'].category.values[0] == 'garden_tools'\n",
        "assert len(res) == len(res.drop_duplicates())\n",
        "assert len(res) == 3035\n",
        "assert len(res[res.category == 'telephony']) == 66\n",
        "assert list(np.sort(res.groupby(\"category\").agg({\"seller_id\": \"nunique\"}).seller_id.values)) == [  1,   1,   1,   1,   1,   2,   2,   2,   2,   2,   3,   3,   4,\n",
        "         4,   4,   4,   5,   5,   5,   5,   5,   5,   6,   6,   6,   7,\n",
        "         8,  10,  12,  13,  13,  13,  14,  14,  14,  15,  16,  17,  17,\n",
        "        17,  19,  20,  20,  20,  21,  22,  26,  37,  37,  43,  46,  51,\n",
        "        54,  59,  66,  66,  78,  87,  87,  99, 101, 116, 125, 156, 216,\n",
        "       224, 256, 288, 310]"
      ]
    },
    {
      "cell_type": "markdown",
      "metadata": {
        "id": "DQemvudwt4mt"
      },
      "source": [
        "## Задание 3 (10 баллов)"
      ]
    },
    {
      "cell_type": "markdown",
      "metadata": {
        "id": "X6wytIx56ivp"
      },
      "source": [
        "Выведите долю потраченных денег по каждому штату (потраченные деньги - сумма денег по доставленным заказам, сумма по price и freight_value)\n",
        "\n",
        "*Примечание:* разбивка по штатам - по штату покупателя, процент - число от 0 до 1\n",
        "\n",
        "\n",
        "Табличка, которая у вас должна получиться:\n",
        "\n",
        "```\n",
        "state | perc\n",
        "\n",
        "value | value\n",
        "```"
      ]
    },
    {
      "cell_type": "code",
      "execution_count": 113,
      "metadata": {
        "id": "WH5QCAJi3sWk"
      },
      "outputs": [],
      "source": [
        "%%write_and_run task_3.py\n",
        "\n",
        "# важно! все зависимости, которые используете (если добавляее новые) в этом классе надо явно продублировать в эту ячейку\n",
        "import numpy as np\n",
        "import pandas as pd\n",
        "\n",
        "def task_3(orders, customers, items):\n",
        "    orders_items = pd.merge(orders, items, on=\"order_id\", how =\"left\")\n",
        "    merged_data = pd.merge(orders_items, customers, on=\"customer_id\", how=\"left\")\n",
        "    delivered_orders = merged_data[merged_data['order_status'] == 'delivered']\n",
        "    delivered_orders['total_spent'] = delivered_orders['price'] + delivered_orders['freight_value']\n",
        "    spent_in_state = delivered_orders.groupby('customer_state')['total_spent'].sum().reset_index()\n",
        "    total_spent = spent_in_state['total_spent'].sum()\n",
        "    spent_in_state['perc'] = spent_in_state['total_spent'] / total_spent\n",
        "    spent_in_state.rename(columns={'customer_state': 'state'}, inplace=True)\n",
        "    return (spent_in_state[['state', 'perc']])\n",
        "    pass"
      ]
    },
    {
      "cell_type": "code",
      "execution_count": 114,
      "metadata": {
        "colab": {
          "base_uri": "https://localhost:8080/"
        },
        "id": "gE01dmRp5YlV",
        "outputId": "77cb354e-3aea-4bfe-9d11-9c80902bd267"
      },
      "outputs": [
        {
          "output_type": "stream",
          "name": "stderr",
          "text": [
            "<ipython-input-113-32837119e675>:9: SettingWithCopyWarning: \n",
            "A value is trying to be set on a copy of a slice from a DataFrame.\n",
            "Try using .loc[row_indexer,col_indexer] = value instead\n",
            "\n",
            "See the caveats in the documentation: https://pandas.pydata.org/pandas-docs/stable/user_guide/indexing.html#returning-a-view-versus-a-copy\n",
            "  delivered_orders['total_spent'] = delivered_orders['price'] + delivered_orders['freight_value']\n"
          ]
        }
      ],
      "source": [
        "# Проверки\n",
        "\n",
        "res = task_3(orders, customers, items)\n",
        "assert res.perc.sum() == 1\n",
        "assert res[res.state == \"RS\"].perc.values[0] == 0.055868056429816286\n",
        "assert res.sort_values(\"perc\", ascending=True).iloc[0, 1] == 0.0005862290943146945\n",
        "assert res.sort_values(\"perc\", ascending=False).iloc[0, 1] == 0.3741756035817322\n",
        "assert len(res) == 27"
      ]
    },
    {
      "cell_type": "markdown",
      "metadata": {
        "id": "2Z5KBkyet7wB"
      },
      "source": [
        "## Задание 4 (10 баллов)"
      ]
    },
    {
      "cell_type": "markdown",
      "metadata": {
        "id": "9klcqoBj80DL"
      },
      "source": [
        "Определите средний чек покупки (добавьте разбивку на стоимость самого заказ и стоимость доставки) и среднее число товаров в заказе\n",
        "\n",
        "А также определите среднее число покупок на пользователя (обратите внимание на идентификаторы)"
      ]
    },
    {
      "cell_type": "code",
      "execution_count": 115,
      "metadata": {
        "id": "lMqosgB-7OeQ"
      },
      "outputs": [],
      "source": [
        "%%write_and_run task_4.py\n",
        "\n",
        "# важно! все зависимости, которые используете (если добавляее новые) в этом классе надо явно продублировать в эту ячейку\n",
        "import numpy as np\n",
        "import pandas as pd\n",
        "\n",
        "def task_4(items, orders, customers):\n",
        "    items_agg = items.groupby(\"order_id\").agg({\n",
        "        \"price\": \"sum\",\n",
        "        \"freight_value\": \"sum\",\n",
        "        \"order_item_id\": \"max\"\n",
        "    })\n",
        "\n",
        "    # Расчет среднего чека, средней стоимости доставки, среднего количества товаров в заказе\n",
        "    avg_cheque = items_agg[\"price\"].mean()\n",
        "    avg_cheque_delivery = items_agg[\"freight_value\"].mean()\n",
        "    avg_num_of_goods = items_agg[\"order_item_id\"].mean()\n",
        "\n",
        "    # среднее количество покупок на пользователя\n",
        "    avg_num_of_purchase = customers.groupby(\"customer_unique_id\").agg({\n",
        "        \"customer_id\": \"count\"\n",
        "    })[\"customer_id\"].mean()\n",
        "\n",
        "    return avg_cheque, avg_cheque_delivery, avg_num_of_goods, avg_num_of_purchase\n",
        "\n"
      ]
    },
    {
      "cell_type": "code",
      "execution_count": 116,
      "metadata": {
        "id": "ManEB8qf7lm_"
      },
      "outputs": [],
      "source": [
        "# Проверка\n",
        "\n",
        "res = task_4(items, orders, customers)\n",
        "assert res == (137.7540763788945, 22.823561713254815, 1.1417306873695092, 1.0348089410589412)"
      ]
    },
    {
      "cell_type": "markdown",
      "metadata": {
        "id": "pEHsUeuYuPsK"
      },
      "source": [
        "## Задание 5 (10 баллов)"
      ]
    },
    {
      "cell_type": "markdown",
      "metadata": {
        "id": "cGX_GxAs9Fww"
      },
      "source": [
        "Посчитайте CSAT (customer satisfaction - средняя оценка ревью) и отобразите средний CSAT по дням в период с апреля 2017 по апрель 2018 года\n",
        "\n",
        "Все манипуляции с датой необходимо сделать с помощью datetime и dateutil\n",
        "\n",
        "\n",
        "Табличка, которая у вас должна получиться:\n",
        "\n",
        "```\n",
        "date | csat\n",
        "\n",
        "\"YYYY-MM-DD\" | value\n",
        "```"
      ]
    },
    {
      "cell_type": "code",
      "execution_count": 117,
      "metadata": {
        "id": "Fu31Qrod9M_4"
      },
      "outputs": [],
      "source": [
        "%%write_and_run task_5.py\n",
        "\n",
        "# важно! все зависимости, которые используете (если добавляее новые) в этом классе надо явно продублировать в эту ячейку\n",
        "import numpy as np\n",
        "import pandas as pd\n",
        "from dateutil import parser\n",
        "from dateutil.parser import parse\n",
        "import datetime\n",
        "\n",
        "def task_5(reviews):\n",
        "\n",
        "    reviews[\"review_creation_date\"] = pd.to_datetime(reviews[\"review_creation_date\"])\n",
        "    reviews[\"date\"] = reviews[\"review_creation_date\"].dt.date #создала столбец без времени, только дата\n",
        "    begin = pd.to_datetime('2017-04-01').date()\n",
        "    end = pd.to_datetime(\"2018-04-30\").date()\n",
        "    reviews_sorted = reviews[(reviews[\"date\"] >= begin) & (reviews[\"date\"] <= end)] #данные за нужный период\n",
        "    csat = reviews_sorted.groupby(\"date\")[\"review_score\"].mean().reset_index()\n",
        "    csat.columns = [\"date\", \"csat\"]\n",
        "    csat[\"date\"] = csat[\"date\"].apply(lambda x: x.strftime(\"%Y-%m-%d\"))\n",
        "    return csat\n",
        "    pass"
      ]
    },
    {
      "cell_type": "code",
      "execution_count": 118,
      "metadata": {
        "id": "UK4r71Vh-Pfu"
      },
      "outputs": [],
      "source": [
        "# Проверки\n",
        "res = task_5(reviews)\n",
        "assert res.date.min() == '2017-04-01'\n",
        "assert res.date.max() == '2018-04-30'\n",
        "assert res.csat.sum() == 1551.8881071384853\n",
        "assert res[res.date == '2017-07-11'].csat.values[0] == 4.291390728476821\n",
        "assert res[res.date == '2018-02-09'].csat.values[0] == 3.992156862745098\n",
        "assert res[res.csat == 3.6814814814814816].date.values[0] == '2018-02-25'"
      ]
    },
    {
      "cell_type": "markdown",
      "metadata": {
        "id": "L-rho7C0uUTY"
      },
      "source": [
        "## Задание 6 (10 баллов)"
      ]
    },
    {
      "cell_type": "markdown",
      "metadata": {
        "id": "3H-lma4hL-sa"
      },
      "source": [
        "Посмотрите, как быстро отвечают пользователи (сделайте аггреграцию по числу дней ответа) и какая средняя оценка\n",
        "\n",
        "Все манипуляции со временем нужно делать через datetime и dateutil\n",
        "\n",
        "Табличка, которая у вас должна получиться:\n",
        "\n",
        "```\n",
        "days | csat | orders\n",
        "\n",
        "value | value | value\n",
        "```\n",
        "\n",
        "Результаты должны быть отсориртированы по дня по возрастанию"
      ]
    },
    {
      "cell_type": "code",
      "execution_count": 119,
      "metadata": {
        "id": "BCjO8WQgMeGC"
      },
      "outputs": [],
      "source": [
        "%%write_and_run task_6.py\n",
        "\n",
        "# важно! все зависимости, которые используете (если добавляее новые) в этом классе надо явно продублировать в эту ячейку\n",
        "import numpy as np\n",
        "import pandas as pd\n",
        "from dateutil.parser import parse\n",
        "import datetime\n",
        "\n",
        "def task_6(reviews):\n",
        "    reviews[\"review_creation_date\"] = pd.to_datetime(reviews[\"review_creation_date\"])\n",
        "    reviews[\"review_answer_timestamp\"] = pd.to_datetime(reviews[\"review_answer_timestamp\"])\n",
        "    reviews[\"answer_time\"] = (reviews[\"review_answer_timestamp\"] - reviews[\"review_creation_date\"]).dt.days\n",
        "    result = reviews.groupby(\"answer_time\").agg({\"review_score\": \"mean\", \"order_id\": \"count\"}).reset_index()\n",
        "    result.columns = [\"days\", \"csat\", \"orders\"]\n",
        "    return result\n",
        "    # YOUR CODE\n",
        "    pass"
      ]
    },
    {
      "cell_type": "code",
      "execution_count": 120,
      "metadata": {
        "id": "b_zq1nfxOvZa"
      },
      "outputs": [],
      "source": [
        "# Проверки\n",
        "res = task_6(reviews)\n",
        "assert res.orders.sum() == 99224\n",
        "assert np.all(res.days.values == np.sort(res.days.values))\n",
        "assert len(res) == 214\n",
        "assert res.days.min() == 0\n",
        "assert res.days.max() == 518\n",
        "assert res[res.days == 233].csat.values[0] == 3.0\n",
        "assert res[res.days == 87].orders.values[0] == 4"
      ]
    },
    {
      "cell_type": "markdown",
      "metadata": {
        "id": "bc-MZgP2udIi"
      },
      "source": [
        "## Задание 7 (10 баллов)"
      ]
    },
    {
      "cell_type": "markdown",
      "metadata": {
        "id": "JxkpI1l0QO0i"
      },
      "source": [
        "Выделите все заказы, где не проставлено поле order_delivered_customer_date. Замените его на дату '2999-12-31'"
      ]
    },
    {
      "cell_type": "code",
      "execution_count": 121,
      "metadata": {
        "id": "oqIpnXvbP3FZ"
      },
      "outputs": [],
      "source": [
        "%%write_and_run task_7.py\n",
        "\n",
        "# важно! все зависимости, которые используете (если добавляее новые) в этом классе надо явно продублировать в эту ячейку\n",
        "import numpy as np\n",
        "import pandas as pd\n",
        "\n",
        "def task_7(orders):\n",
        "    orders[\"order_delivered_customer_date\"].fillna('2999-12-31', inplace = True)\n",
        "    return orders\n",
        "    pass"
      ]
    },
    {
      "cell_type": "code",
      "execution_count": 122,
      "metadata": {
        "id": "k6z59EMXWLkm"
      },
      "outputs": [],
      "source": [
        "#Проверки\n",
        "\n",
        "res = task_7(orders)\n",
        "assert len(res[res.order_delivered_customer_date.isna()]) == 0\n",
        "assert len(res) == 99441\n",
        "assert len(res[res.order_delivered_customer_date == '2999-12-31']) == 2965"
      ]
    },
    {
      "cell_type": "markdown",
      "metadata": {
        "id": "TVbTTB9nuiHH"
      },
      "source": [
        "## Задание 8 (30 баллов)"
      ]
    },
    {
      "cell_type": "markdown",
      "metadata": {
        "id": "zeRxv6FDVeVJ"
      },
      "source": [
        "Определите топ-10 продавцов, у которых больше 100 заказов, отсылающие чаще всего свою посылку в другие регионы (считаются только доставленные заказы)\n",
        "\n",
        "Чаще всего отсылают = самый большой процент отправленных заказов в другой штат\n",
        "\n",
        "Табличка, которая у вас должна получиться:\n",
        "\n",
        "```\n",
        "seller_id | share\n",
        "\n",
        "value | value\n",
        "```"
      ]
    },
    {
      "cell_type": "code",
      "execution_count": 123,
      "metadata": {
        "id": "Nv1eFCg5WnlD"
      },
      "outputs": [],
      "source": [
        "%%write_and_run task_8.py\n",
        "\n",
        "# важно! все зависимости, которые используете (если добавляее новые) в этом классе надо явно продублировать в эту ячейку\n",
        "import numpy as np\n",
        "import pandas as pd\n",
        "\n",
        "def task_8(orders, items, sellers, customers):\n",
        "    merged_data = items.merge(orders, on='order_id').merge(sellers, on='seller_id').merge(customers, on='customer_id')\n",
        "    merged_data.drop_duplicates\n",
        "\n",
        "    delivered_orders = merged_data[merged_data['order_status'] == 'delivered'] # Фильтруем только доставленные заказы\n",
        "    delivered_orders['is_to_other_region'] = delivered_orders['seller_state'] != delivered_orders['customer_state']   #новый столбец, true если не равны, false если один штат\n",
        "    grouped_data = delivered_orders.groupby('seller_id') #группируем по продавцам\n",
        "    total_delivered_orders = grouped_data.size()\n",
        "    total_other_region_orders = grouped_data['is_to_other_region'].sum()\n",
        "    share = (total_other_region_orders / total_delivered_orders).fillna(0)\n",
        "    top_sellers = share[total_delivered_orders >= 100].nlargest(10)\n",
        "    return top_sellers.reset_index().rename(columns={'seller_id': 'seller', 0: 'share'})\n",
        "\n",
        "    pass"
      ]
    },
    {
      "cell_type": "code",
      "execution_count": 125,
      "metadata": {
        "id": "1bC_uAYIbRrn",
        "colab": {
          "base_uri": "https://localhost:8080/",
          "height": 349
        },
        "outputId": "7e32da0d-9df9-4d6c-8846-bcf1424e15fb"
      },
      "outputs": [
        {
          "output_type": "stream",
          "name": "stderr",
          "text": [
            "<ipython-input-123-0e10f64d5929>:10: SettingWithCopyWarning: \n",
            "A value is trying to be set on a copy of a slice from a DataFrame.\n",
            "Try using .loc[row_indexer,col_indexer] = value instead\n",
            "\n",
            "See the caveats in the documentation: https://pandas.pydata.org/pandas-docs/stable/user_guide/indexing.html#returning-a-view-versus-a-copy\n",
            "  delivered_orders['is_to_other_region'] = delivered_orders['seller_state'] != delivered_orders['customer_state']   #новый столбец, true если не равны, false если один штат\n"
          ]
        },
        {
          "output_type": "error",
          "ename": "AssertionError",
          "evalue": "ignored",
          "traceback": [
            "\u001b[0;31m---------------------------------------------------------------------------\u001b[0m",
            "\u001b[0;31mAssertionError\u001b[0m                            Traceback (most recent call last)",
            "\u001b[0;32m<ipython-input-125-0f5fb5fa645b>\u001b[0m in \u001b[0;36m<cell line: 6>\u001b[0;34m()\u001b[0m\n\u001b[1;32m      4\u001b[0m \u001b[0;32massert\u001b[0m \u001b[0mnp\u001b[0m\u001b[0;34m.\u001b[0m\u001b[0mall\u001b[0m\u001b[0;34m(\u001b[0m\u001b[0mres\u001b[0m\u001b[0;34m.\u001b[0m\u001b[0mshare\u001b[0m\u001b[0;34m.\u001b[0m\u001b[0mvalues\u001b[0m \u001b[0;34m==\u001b[0m \u001b[0mnp\u001b[0m\u001b[0;34m.\u001b[0m\u001b[0msort\u001b[0m\u001b[0;34m(\u001b[0m\u001b[0mres\u001b[0m\u001b[0;34m.\u001b[0m\u001b[0mshare\u001b[0m\u001b[0;34m.\u001b[0m\u001b[0mvalues\u001b[0m\u001b[0;34m)\u001b[0m\u001b[0;34m[\u001b[0m\u001b[0;34m:\u001b[0m\u001b[0;34m:\u001b[0m\u001b[0;34m-\u001b[0m\u001b[0;36m1\u001b[0m\u001b[0;34m]\u001b[0m\u001b[0;34m)\u001b[0m\u001b[0;34m\u001b[0m\u001b[0;34m\u001b[0m\u001b[0m\n\u001b[1;32m      5\u001b[0m \u001b[0;32massert\u001b[0m \u001b[0mres\u001b[0m\u001b[0;34m.\u001b[0m\u001b[0mshare\u001b[0m\u001b[0;34m.\u001b[0m\u001b[0mvalues\u001b[0m\u001b[0;34m[\u001b[0m\u001b[0;36m0\u001b[0m\u001b[0;34m]\u001b[0m \u001b[0;34m==\u001b[0m \u001b[0;36m0.9743589743589743\u001b[0m\u001b[0;34m\u001b[0m\u001b[0;34m\u001b[0m\u001b[0m\n\u001b[0;32m----> 6\u001b[0;31m \u001b[0;32massert\u001b[0m \u001b[0mres\u001b[0m\u001b[0;34m.\u001b[0m\u001b[0mshare\u001b[0m\u001b[0;34m.\u001b[0m\u001b[0mvalues\u001b[0m\u001b[0;34m[\u001b[0m\u001b[0;34m-\u001b[0m\u001b[0;36m1\u001b[0m\u001b[0;34m]\u001b[0m \u001b[0;34m==\u001b[0m \u001b[0;36m0.9356435643564357\u001b[0m\u001b[0;34m\u001b[0m\u001b[0;34m\u001b[0m\u001b[0m\n\u001b[0m\u001b[1;32m      7\u001b[0m \u001b[0;32massert\u001b[0m \u001b[0mres\u001b[0m\u001b[0;34m.\u001b[0m\u001b[0mseller_id\u001b[0m\u001b[0;34m.\u001b[0m\u001b[0mvalues\u001b[0m\u001b[0;34m[\u001b[0m\u001b[0;36m5\u001b[0m\u001b[0;34m]\u001b[0m \u001b[0;34m==\u001b[0m \u001b[0;34m'1b4c3a6f53068f0b6944d2d005c9fc89'\u001b[0m\u001b[0;34m\u001b[0m\u001b[0;34m\u001b[0m\u001b[0m\n\u001b[1;32m      8\u001b[0m \u001b[0;32massert\u001b[0m \u001b[0mres\u001b[0m\u001b[0;34m.\u001b[0m\u001b[0mseller_id\u001b[0m\u001b[0;34m.\u001b[0m\u001b[0mvalues\u001b[0m\u001b[0;34m[\u001b[0m\u001b[0;36m2\u001b[0m\u001b[0;34m]\u001b[0m \u001b[0;34m==\u001b[0m \u001b[0;34m'06a2c3af7b3aee5d69171b0e14f0ee87'\u001b[0m\u001b[0;34m\u001b[0m\u001b[0;34m\u001b[0m\u001b[0m\n",
            "\u001b[0;31mAssertionError\u001b[0m: "
          ]
        }
      ],
      "source": [
        "# Проверки\n",
        "\n",
        "res = task_8(orders, items, sellers, customers)\n",
        "assert np.all(res.share.values == np.sort(res.share.values)[::-1])\n",
        "assert res.share.values[0] == 0.9743589743589743\n",
        "assert res.share.values[-1] == 0.9356435643564357\n",
        "assert res.seller_id.values[5] == '1b4c3a6f53068f0b6944d2d005c9fc89'\n",
        "assert res.seller_id.values[2] == '06a2c3af7b3aee5d69171b0e14f0ee87'\n",
        "assert res.share.sum() == 9.519118744616716"
      ]
    }
  ],
  "metadata": {
    "colab": {
      "provenance": []
    },
    "kernelspec": {
      "display_name": "Python 3",
      "name": "python3"
    },
    "language_info": {
      "name": "python"
    }
  },
  "nbformat": 4,
  "nbformat_minor": 0
}